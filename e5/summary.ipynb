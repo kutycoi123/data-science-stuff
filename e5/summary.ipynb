{
 "cells": [
  {
   "cell_type": "code",
   "execution_count": 1,
   "metadata": {},
   "outputs": [],
   "source": [
    "import pandas as pd\n",
    "import numpy as np\n",
    "import matplotlib.pyplot as plt"
   ]
  },
  {
   "cell_type": "code",
   "execution_count": 2,
   "metadata": {},
   "outputs": [],
   "source": [
    "files = ['data-1.csv','data-2.csv','data-3.csv','data-4.csv','data-5.csv','data-6.csv']"
   ]
  },
  {
   "cell_type": "code",
   "execution_count": 3,
   "metadata": {},
   "outputs": [],
   "source": [
    "class Stats:\n",
    "    def __init__(self, data):\n",
    "        self.std = np.std(data)\n",
    "        self.mean = np.mean(data)\n",
    "        self.min = np.min(data)\n",
    "        self.max = np.max(data)\n",
    "    def __str__(self):\n",
    "        res = \"\"\n",
    "        res += \"Standard deviation: \" + str(self.std)\n",
    "        res += \"\\nMean: \" + str(self.mean)\n",
    "        res += \"\\nMin: \" + str(self.min)\n",
    "        res += \"\\nMax: \" + str(self.max)\n",
    "        return res"
   ]
  },
  {
   "cell_type": "code",
   "execution_count": 4,
   "metadata": {},
   "outputs": [],
   "source": [
    "data = [pd.read_csv(x) for x in files]"
   ]
  },
  {
   "cell_type": "code",
   "execution_count": 5,
   "metadata": {},
   "outputs": [],
   "source": [
    "stats = [(Stats(d.x), Stats(d.y), np.corrcoef(d.x, d.y)) for d in data]"
   ]
  },
  {
   "cell_type": "code",
   "execution_count": 6,
   "metadata": {},
   "outputs": [
    {
     "name": "stdout",
     "output_type": "stream",
     "text": [
      "\n",
      "Stats for file: data-1.csv\n",
      "==X==\n",
      "Standard deviation: 12.094586936598956\n",
      "Mean: 8.71769618641382\n",
      "Min: -22.635877790008944\n",
      "Max: 35.23705548785129\n",
      "==Y==\n",
      "Standard deviation: 6.606680770370137\n",
      "Mean: 12.522874034702584\n",
      "Min: -2.5650878326932127\n",
      "Max: 27.38415261152477\n",
      "Correlation coefficient:\n",
      " [[1.        0.9503257]\n",
      " [0.9503257 1.       ]]\n",
      "\n",
      "Stats for file: data-2.csv\n",
      "==X==\n",
      "Standard deviation: 11.424031427941332\n",
      "Mean: -0.7107871267159573\n",
      "Min: -33.2711130771198\n",
      "Max: 27.6470003722073\n",
      "==Y==\n",
      "Standard deviation: 6.226549791205469\n",
      "Mean: -0.7489869764497991\n",
      "Min: -18.621803760419066\n",
      "Max: 14.147314992317481\n",
      "Correlation coefficient:\n",
      " [[1.         0.95515317]\n",
      " [0.95515317 1.        ]]\n",
      "\n",
      "Stats for file: data-3.csv\n",
      "==X==\n",
      "Standard deviation: 2.2318288211623565\n",
      "Mean: 0.9689074904200939\n",
      "Min: -2.4490643296742807\n",
      "Max: 4.51888491755363\n",
      "==Y==\n",
      "Standard deviation: 1.1473837107336813\n",
      "Mean: 8.508535236641327\n",
      "Min: 6.641734490391762\n",
      "Max: 10.551871022804317\n",
      "Correlation coefficient:\n",
      " [[1.         0.98193726]\n",
      " [0.98193726 1.        ]]\n",
      "\n",
      "Stats for file: data-4.csv\n",
      "==X==\n",
      "Standard deviation: 28.38755430203193\n",
      "Mean: 49.90508614830509\n",
      "Min: 0.0\n",
      "Max: 87.3767\n",
      "==Y==\n",
      "Standard deviation: 16.475637541936198\n",
      "Mean: 18.553836525423726\n",
      "Min: 0.0\n",
      "Max: 44.56504\n",
      "Correlation coefficient:\n",
      " [[ 1.         -0.08119307]\n",
      " [-0.08119307  1.        ]]\n",
      "\n",
      "Stats for file: data-5.csv\n",
      "==X==\n",
      "Standard deviation: 28.378981284825976\n",
      "Mean: 49.90999357843095\n",
      "Min: 4.337892453674525\n",
      "Max: 91.0528633396976\n",
      "==Y==\n",
      "Standard deviation: 16.470559057583237\n",
      "Mean: 18.555524937729086\n",
      "Min: 0.05549750758115175\n",
      "Max: 49.93419703633311\n",
      "Correlation coefficient:\n",
      " [[ 1.         -0.08823599]\n",
      " [-0.08823599  1.        ]]\n",
      "\n",
      "Stats for file: data-6.csv\n",
      "==X==\n",
      "Standard deviation: 11.861841302343016\n",
      "Mean: 7.21615517960992\n",
      "Min: -24.33382075234097\n",
      "Max: 35.402138910929\n",
      "==Y==\n",
      "Standard deviation: 11.70541274804915\n",
      "Mean: 7.602215028237295\n",
      "Min: -22.9563569970746\n",
      "Max: 36.07987403078143\n",
      "Correlation coefficient:\n",
      " [[1.         0.93506857]\n",
      " [0.93506857 1.        ]]\n"
     ]
    }
   ],
   "source": [
    "for i in range(len(files)):\n",
    "    print(\"\\nStats for file:\", files[i])\n",
    "    print(\"==X==\")\n",
    "    print(str(stats[i][0]))\n",
    "    print(\"==Y==\")\n",
    "    print(str(stats[i][1]))\n",
    "    print(\"Correlation coefficient:\\n\", stats[i][2])"
   ]
  },
  {
   "cell_type": "code",
   "execution_count": 7,
   "metadata": {},
   "outputs": [
    {
     "data": {
      "text/plain": [
       "[<matplotlib.lines.Line2D at 0x7f523beef6d8>]"
      ]
     },
     "execution_count": 7,
     "metadata": {},
     "output_type": "execute_result"
    },
    {
     "data": {
      "image/png": "[encoded data removed]",
      "text/plain": [
       "<Figure size 432x288 with 1 Axes>"
      ]
     },
     "metadata": {
      "needs_background": "light"
     },
     "output_type": "display_data"
    }
   ],
   "source": [
    "plt.plot(data[0].x, data[0].y, 'bo')"
   ]
  },
  {
   "cell_type": "code",
   "execution_count": 8,
   "metadata": {},
   "outputs": [
    {
     "data": {
      "text/plain": [
       "[<matplotlib.lines.Line2D at 0x7f5237783c18>]"
      ]
     },
     "execution_count": 8,
     "metadata": {},
     "output_type": "execute_result"
    },
    {
     "data": {
      "image/png": "[encoded data removed]",
      "text/plain": [
       "<Figure size 432x288 with 1 Axes>"
      ]
     },
     "metadata": {
      "needs_background": "light"
     },
     "output_type": "display_data"
    }
   ],
   "source": [
    "plt.plot(data[1].x, data[1].y, 'bo')"
   ]
  },
  {
   "cell_type": "code",
   "execution_count": 9,
   "metadata": {},
   "outputs": [
    {
     "data": {
      "text/plain": [
       "[<matplotlib.lines.Line2D at 0x7f52376f89e8>]"
      ]
     },
     "execution_count": 9,
     "metadata": {},
     "output_type": "execute_result"
    },
    {
     "data": {
      "image/png": "[encoded data removed]",
      "text/plain": [
       "<Figure size 432x288 with 1 Axes>"
      ]
     },
     "metadata": {
      "needs_background": "light"
     },
     "output_type": "display_data"
    }
   ],
   "source": [
    "plt.plot(data[2].x, data[2].y, 'bo')"
   ]
  },
  {
   "cell_type": "code",
   "execution_count": 10,
   "metadata": {},
   "outputs": [
    {
     "data": {
      "text/plain": [
       "[<matplotlib.lines.Line2D at 0x7f5237665828>]"
      ]
     },
     "execution_count": 10,
     "metadata": {},
     "output_type": "execute_result"
    },
    {
     "data": {
      "image/png": "[encoded data removed]",
      "text/plain": [
       "<Figure size 432x288 with 1 Axes>"
      ]
     },
     "metadata": {
      "needs_background": "light"
     },
     "output_type": "display_data"
    }
   ],
   "source": [
    "plt.plot(data[3].x, data[3].y, 'bo')"
   ]
  },
  {
   "cell_type": "code",
   "execution_count": 11,
   "metadata": {},
   "outputs": [
    {
     "data": {
      "text/plain": [
       "[<matplotlib.lines.Line2D at 0x7f5237642518>]"
      ]
     },
     "execution_count": 11,
     "metadata": {},
     "output_type": "execute_result"
    },
    {
     "data": {
      "image/png": "[encoded data removed]",
      "text/plain": [
       "<Figure size 432x288 with 1 Axes>"
      ]
     },
     "metadata": {
      "needs_background": "light"
     },
     "output_type": "display_data"
    }
   ],
   "source": [
    "plt.plot(data[4].x, data[4].y, 'bo')"
   ]
  },
  {
   "cell_type": "code",
   "execution_count": 12,
   "metadata": {},
   "outputs": [
    {
     "data": {
      "text/plain": [
       "[<matplotlib.lines.Line2D at 0x7f52375a0240>]"
      ]
     },
     "execution_count": 12,
     "metadata": {},
     "output_type": "execute_result"
    },
    {
     "data": {
      "image/png": "[encoded data removed]",
      "text/plain": [
       "<Figure size 432x288 with 1 Axes>"
      ]
     },
     "metadata": {
      "needs_background": "light"
     },
     "output_type": "display_data"
    }
   ],
   "source": [
    "plt.plot(data[5].x, data[5].y, 'bo')"
   ]
  },
  {
   "cell_type": "code",
   "execution_count": null,
   "metadata": {},
   "outputs": [],
   "source": []
  }
 ],
 "metadata": {
  "kernelspec": {
   "display_name": "Python 3",
   "language": "python",
   "name": "python3"
  },
  "language_info": {
   "codemirror_mode": {
    "name": "ipython",
    "version": 3
   },
   "file_extension": ".py",
   "mimetype": "text/x-python",
   "name": "python",
   "nbconvert_exporter": "python",
   "pygments_lexer": "ipython3",
   "version": "3.6.9"
  }
 },
 "nbformat": 4,
 "nbformat_minor": 4
}
